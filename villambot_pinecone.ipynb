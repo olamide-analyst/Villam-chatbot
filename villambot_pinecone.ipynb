{
 "cells": [
  {
   "cell_type": "code",
   "execution_count": 1,
   "id": "1ff1f836-22f8-46e5-b0d3-1c3832e5b01f",
   "metadata": {},
   "outputs": [
    {
     "name": "stdout",
     "output_type": "stream",
     "text": [
      "villam RAG chatbot setup\n"
     ]
    }
   ],
   "source": [
    "print('villam RAG chatbot setup')"
   ]
  },
  {
   "cell_type": "code",
   "execution_count": 7,
   "id": "3407f3d1-4de3-400d-a792-50997273b1ae",
   "metadata": {},
   "outputs": [
    {
     "name": "stdout",
     "output_type": "stream",
     "text": [
      "GOOGLE_API_KEY Loaded: True\n",
      "PINECONE_API_KEY loaded: True\n"
     ]
    }
   ],
   "source": [
    "import os \n",
    "from dotenv import load_dotenv  # to load API keys from .env file \n",
    "\n",
    "# load .env file content (GOOGLE_API_KEY, PINECONE_API_KEY)\n",
    "load_dotenv()\n",
    "\n",
    "# check if API keys loaded\n",
    "print(f'GOOGLE_API_KEY Loaded: {bool(os.getenv('GOOGLE_API_KEY'))}')\n",
    "print(f'PINECONE_API_KEY loaded: {bool(os.getenv('PINECONE_API_KEY'))}')"
   ]
  },
  {
   "cell_type": "code",
   "execution_count": 15,
   "id": "ab5edd69-e7bb-4e92-902c-85947a56a5ef",
   "metadata": {},
   "outputs": [
    {
     "name": "stderr",
     "output_type": "stream",
     "text": [
      "Ignoring wrong pointing object 7 0 (offset 0)\n"
     ]
    },
    {
     "name": "stdout",
     "output_type": "stream",
     "text": [
      "Loaded 4 pages from Villam_Hub.pdf\n"
     ]
    }
   ],
   "source": [
    "from langchain_community.document_loaders import PyPDFLoader\n",
    "\n",
    "# load the PDF file \n",
    "pdf_path = 'Villam_Hub.pdf'\n",
    "pdf_loader = PyPDFLoader(pdf_path)\n",
    "\n",
    "#load all pages in the pdf \n",
    "documents = pdf_loader.load()\n",
    "\n",
    "# check how many pages loaded \n",
    "print(f'Loaded {len(documents)} pages from {pdf_path}')"
   ]
  },
  {
   "cell_type": "code",
   "execution_count": 19,
   "id": "eee1265c-95ec-4683-9295-c264f99af4cf",
   "metadata": {},
   "outputs": [
    {
     "name": "stdout",
     "output_type": "stream",
     "text": [
      "split into 7 chunks\n"
     ]
    }
   ],
   "source": [
    "from langchain.text_splitter import RecursiveCharacterTextSplitter\n",
    "\n",
    "# the function to split the text into chuncks \n",
    "def split_docs(documents, chunk_size=1500, chunk_overlap=100): \n",
    "    text_splitter = RecursiveCharacterTextSplitter(\n",
    "        chunk_size=chunk_size, \n",
    "        chunk_overlap=chunk_overlap\n",
    "    )\n",
    "\n",
    "    return text_splitter.split_documents(documents)\n",
    "\n",
    "# split the ddocuments using the function \n",
    "docs = split_docs(documents,chunk_size=1500, chunk_overlap=100)\n",
    "\n",
    "# check how many chunks\n",
    "print(f'split into {len(docs)} chunks') "
   ]
  },
  {
   "cell_type": "code",
   "execution_count": null,
   "id": "73278338-c835-48a4-bef6-27eba401f5b3",
   "metadata": {},
   "outputs": [],
   "source": []
  },
  {
   "cell_type": "code",
   "execution_count": null,
   "id": "9f4dc122-78e9-4f44-b214-576bcdb08f5a",
   "metadata": {},
   "outputs": [],
   "source": []
  },
  {
   "cell_type": "code",
   "execution_count": null,
   "id": "f07df620-5c42-4fb4-a562-17ebdd861095",
   "metadata": {},
   "outputs": [],
   "source": []
  },
  {
   "cell_type": "code",
   "execution_count": null,
   "id": "9a797eef-3743-4f13-a216-f3aa325653ec",
   "metadata": {},
   "outputs": [],
   "source": []
  },
  {
   "cell_type": "code",
   "execution_count": null,
   "id": "31837c45-3ba5-42b7-83f1-7c4c45ba82aa",
   "metadata": {},
   "outputs": [],
   "source": []
  },
  {
   "cell_type": "code",
   "execution_count": null,
   "id": "3f8f458b-0367-4cd9-bc79-e498ab595294",
   "metadata": {},
   "outputs": [],
   "source": []
  },
  {
   "cell_type": "code",
   "execution_count": null,
   "id": "44283f4f-3511-421a-a6d7-5405d49e7fc9",
   "metadata": {},
   "outputs": [],
   "source": []
  },
  {
   "cell_type": "code",
   "execution_count": null,
   "id": "bed24a50-4e03-4cca-befa-95cc30c71e69",
   "metadata": {},
   "outputs": [],
   "source": []
  }
 ],
 "metadata": {
  "kernelspec": {
   "display_name": "Python 3 (ipykernel)",
   "language": "python",
   "name": "python3"
  },
  "language_info": {
   "codemirror_mode": {
    "name": "ipython",
    "version": 3
   },
   "file_extension": ".py",
   "mimetype": "text/x-python",
   "name": "python",
   "nbconvert_exporter": "python",
   "pygments_lexer": "ipython3",
   "version": "3.12.4"
  }
 },
 "nbformat": 4,
 "nbformat_minor": 5
}
