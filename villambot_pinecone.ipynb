{
 "cells": [
  {
   "cell_type": "code",
   "execution_count": 1,
   "id": "1ff1f836-22f8-46e5-b0d3-1c3832e5b01f",
   "metadata": {},
   "outputs": [
    {
     "name": "stdout",
     "output_type": "stream",
     "text": [
      "villam RAG chatbot setup\n"
     ]
    }
   ],
   "source": [
    "print('villam RAG chatbot setup')"
   ]
  },
  {
   "cell_type": "code",
   "execution_count": 3,
   "id": "3407f3d1-4de3-400d-a792-50997273b1ae",
   "metadata": {},
   "outputs": [
    {
     "name": "stdout",
     "output_type": "stream",
     "text": [
      "GOOGLE_API_KEY loaded: True\n",
      "PINECONE_API_KEY loaded: True\n"
     ]
    }
   ],
   "source": [
    "import os \n",
    "from dotenv import load_dotenv  # to load API keys from .env file \n",
    "\n",
    "# load .env file content (GOOGLE_API_KEY, PINECONE_API_KEY)\n",
    "load_dotenv()\n",
    "\n",
    "# check if API keys loaded\n",
    "print(f\"GOOGLE_API_KEY Loaded: {bool(os.getenv('GOOGLE_API_KEY'))}\")\n",
    "print(f\"PINECONE_API_KEY loaded: {bool(os.getenv(Pinecone))}\")"
   ]
  },
  {
   "cell_type": "code",
   "execution_count": null,
   "id": "d200276b-055b-43db-9fef-48fbc2768be2",
   "metadata": {},
   "outputs": [],
   "source": [
    "print(f\"GOOGLE_API_KEY loaded: {bool(os.getenv('GOOGLE_API_KEY'))}\")\n"
   ]
  }
 ],
 "metadata": {
  "kernelspec": {
   "display_name": "Python 3 (ipykernel)",
   "language": "python",
   "name": "python3"
  },
  "language_info": {
   "codemirror_mode": {
    "name": "ipython",
    "version": 3
   },
   "file_extension": ".py",
   "mimetype": "text/x-python",
   "name": "python",
   "nbconvert_exporter": "python",
   "pygments_lexer": "ipython3",
   "version": "3.12.4"
  }
 },
 "nbformat": 4,
 "nbformat_minor": 5
}
