{
 "cells": [
  {
   "cell_type": "code",
   "execution_count": 1,
   "id": "1ff1f836-22f8-46e5-b0d3-1c3832e5b01f",
   "metadata": {},
   "outputs": [
    {
     "name": "stdout",
     "output_type": "stream",
     "text": [
      "villam RAG chatbot setup\n"
     ]
    }
   ],
   "source": [
    "print('villam RAG chatbot setup')"
   ]
  },
  {
   "cell_type": "code",
   "execution_count": 2,
   "id": "3407f3d1-4de3-400d-a792-50997273b1ae",
   "metadata": {},
   "outputs": [
    {
     "name": "stdout",
     "output_type": "stream",
     "text": [
      "GOOGLE_API_KEY Loaded: True\n",
      "PINECONE_API_KEY loaded: True\n"
     ]
    }
   ],
   "source": [
    "import os \n",
    "from dotenv import load_dotenv  # to load API keys from .env file \n",
    "\n",
    "# load .env file content (GOOGLE_API_KEY, PINECONE_API_KEY)\n",
    "load_dotenv()\n",
    "\n",
    "# check if API keys loaded\n",
    "print(f'GOOGLE_API_KEY Loaded: {bool(os.getenv('GOOGLE_API_KEY'))}')\n",
    "print(f'PINECONE_API_KEY loaded: {bool(os.getenv('PINECONE_API_KEY'))}')"
   ]
  },
  {
   "cell_type": "code",
   "execution_count": 3,
   "id": "ab5edd69-e7bb-4e92-902c-85947a56a5ef",
   "metadata": {},
   "outputs": [
    {
     "name": "stderr",
     "output_type": "stream",
     "text": [
      "Ignoring wrong pointing object 7 0 (offset 0)\n"
     ]
    },
    {
     "name": "stdout",
     "output_type": "stream",
     "text": [
      "Loaded 4 pages from Villam_Hub.pdf\n"
     ]
    }
   ],
   "source": [
    "from langchain_community.document_loaders import PyPDFLoader\n",
    "\n",
    "# load the PDF file \n",
    "pdf_path = 'Villam_Hub.pdf'\n",
    "pdf_loader = PyPDFLoader(pdf_path)\n",
    "\n",
    "#load all pages in the pdf \n",
    "documents = pdf_loader.load()\n",
    "\n",
    "# check how many pages loaded \n",
    "print(f'Loaded {len(documents)} pages from {pdf_path}')"
   ]
  },
  {
   "cell_type": "code",
   "execution_count": 4,
   "id": "eee1265c-95ec-4683-9295-c264f99af4cf",
   "metadata": {},
   "outputs": [
    {
     "name": "stdout",
     "output_type": "stream",
     "text": [
      "split into 7 chunks\n"
     ]
    }
   ],
   "source": [
    "from langchain.text_splitter import RecursiveCharacterTextSplitter\n",
    "\n",
    "# the function to split the text into chuncks \n",
    "def split_docs(documents, chunk_size=1500, chunk_overlap=100): \n",
    "    text_splitter = RecursiveCharacterTextSplitter(\n",
    "        chunk_size=chunk_size, \n",
    "        chunk_overlap=chunk_overlap\n",
    "    )\n",
    "\n",
    "    return text_splitter.split_documents(documents)\n",
    "\n",
    "# split the ddocuments using the function \n",
    "docs = split_docs(documents,chunk_size=1500, chunk_overlap=100)\n",
    "\n",
    "# check how many chunks\n",
    "print(f'split into {len(docs)} chunks') "
   ]
  },
  {
   "cell_type": "code",
   "execution_count": 33,
   "id": "73278338-c835-48a4-bef6-27eba401f5b3",
   "metadata": {},
   "outputs": [
    {
     "name": "stdout",
     "output_type": "stream",
     "text": [
      "Length of vector: 768\n"
     ]
    }
   ],
   "source": [
    "from langchain_google_genai import GoogleGenerativeAIEmbeddings\n",
    "\n",
    "# initialize the goggle embedding model (768 dimensions)\n",
    "embedding_model = GoogleGenerativeAIEmbeddings(model= 'models/embedding-001')\n",
    "\n",
    "# to test the model\n",
    "test_text = \"Villam Hub empowers urban farmers.\"\n",
    "embedding = embedding_model.embed_query(test_text)\n",
    "\n",
    "print(f\"Length of vector: {len(embedding)}\")"
   ]
  },
  {
   "cell_type": "code",
   "execution_count": 35,
   "id": "a8be22e8-f097-44cf-bf01-2e9dbd388986",
   "metadata": {},
   "outputs": [],
   "source": [
    "from tqdm import tqdm\n",
    "import concurrent.futures\n",
    "import time   #used to pause between retries if embedding fails\n",
    "\n",
    "# Function to retry embedding in case in case of temporary errors\n",
    "def embed_batch_with_retry(embed_model, batch_contents, max_attempts=3):\n",
    "    \"\"\"\n",
    "    Tries to embed a batch of text chunks using the provided embedding model.\n",
    "    Retries up to `max_attempts` times if it fails.\n",
    "    \"\"\"\n",
    "    for attempt in range(max_attempts):\n",
    "        try:\n",
    "            # Try to embed the batch and return the result\n",
    "            return embed_model.embed_documents(batch_contents)   \n",
    "        except Exception as e:         \n",
    "            print(f\"Attempt {attempt + 1} failed: {e}\") \n",
    "             # If it's the last attempt, raise the error to stop execution\n",
    "            if attempt == max_attempts - 1:\n",
    "                raise\n",
    "            else:\n",
    "                # Wait before retrying (in case of rate limits)\n",
    "                time.sleep(10) \n",
    "                \n",
    "# Basically, the function sends a batch of text chunks to be embedded, and if it fails, it patiently retries 3 times."
   ]
  },
  {
   "cell_type": "code",
   "execution_count": 39,
   "id": "905c029e-1090-4f2e-bd26-1cade373ee46",
   "metadata": {},
   "outputs": [],
   "source": [
    "# Function to embed all document chunks using concurrent threads for speed\n",
    "def concurrent_embed_documents(embed_model, documents, batch_size=50, max_workers=4):\n",
    "    \"\"\"\n",
    "    Splits the full list of `documents` into batches.\n",
    "    Sends each batch to be embedded in parallel using threads.\n",
    "    Returns two lists: all vector embeddings and the original text chunks.\n",
    "    \"\"\"\n",
    "    all_embeddings = []  # Store all the vector outputs (embedded texts) here\n",
    "    all_contents = []    # Store all the original matching text chunks here\n",
    "    futures = []         # Track background embedding tasks\n",
    "\n",
    "    # Create a pool of up to `max_workers` threads to run batches in parallel\n",
    "    with concurrent.futures.ThreadPoolExecutor(max_workers=max_workers) as executor:\n",
    "        # Loop through documents in batches of 50 (`batch_size`)\n",
    "        for i in range(0, len(documents), batch_size):\n",
    "            batch = documents[i:i+batch_size]                            # Get the current batch\n",
    "            batch_contents = [doc.page_content for doc in batch]        # Extract just the text\n",
    "\n",
    "            # Submit the batch to be processed in the background\n",
    "            future = executor.submit(embed_batch_with_retry, embed_model, batch_contents)\n",
    "            futures.append((future, batch_contents))\n",
    "\n",
    "        # Show progress bar while each future is being processed\n",
    "        for future, contents in tqdm(futures, total=len(futures), desc=\"Embedding batches\"):\n",
    "            try:\n",
    "                batch_embeddings = future.result()                      # Wait for result from the thread\n",
    "                all_embeddings.extend(batch_embeddings)                 # Add results to the main list\n",
    "                all_contents.extend(contents)                           # Save the original texts too\n",
    "            except Exception as e:\n",
    "                print(f\"Batch failed: {e}\")\n",
    "\n",
    "    return all_embeddings, all_contents\n",
    "\n",
    "# the function Breaks the \"documents\" into 50-piece chunks,Embeds them in parallel (faster)...\n",
    "# as well as Handles errors and retrying & Returns all the vectors and their matching text."
   ]
  },
  {
   "cell_type": "code",
   "execution_count": 41,
   "id": "3f8f458b-0367-4cd9-bc79-e498ab595294",
   "metadata": {},
   "outputs": [
    {
     "name": "stdout",
     "output_type": "stream",
     "text": [
      "Generating embeddings for all document chunks...\n"
     ]
    },
    {
     "name": "stderr",
     "output_type": "stream",
     "text": [
      "Embedding batches: 100%|█████████████████████████████████████████████████████████████████| 1/1 [00:04<00:00,  4.45s/it]"
     ]
    },
    {
     "name": "stdout",
     "output_type": "stream",
     "text": [
      " Generated 7 embeddings.\n"
     ]
    },
    {
     "name": "stderr",
     "output_type": "stream",
     "text": [
      "\n"
     ]
    }
   ],
   "source": [
    "# HOW to use \n",
    "print(\"Generating embeddings for all document chunks...\")\n",
    "all_embeddings, all_batch_content = concurrent_embed_documents(embedding_model, docs)\n",
    "print(f\" Generated {len(all_embeddings)} embeddings.\")\n"
   ]
  }
 ],
 "metadata": {
  "kernelspec": {
   "display_name": "Python 3 (ipykernel)",
   "language": "python",
   "name": "python3"
  },
  "language_info": {
   "codemirror_mode": {
    "name": "ipython",
    "version": 3
   },
   "file_extension": ".py",
   "mimetype": "text/x-python",
   "name": "python",
   "nbconvert_exporter": "python",
   "pygments_lexer": "ipython3",
   "version": "3.12.4"
  }
 },
 "nbformat": 4,
 "nbformat_minor": 5
}
