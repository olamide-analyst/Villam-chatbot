{
 "cells": [
  {
   "cell_type": "code",
   "execution_count": 5,
   "id": "65a0f671-e41d-4886-9185-450a57e5c11e",
   "metadata": {},
   "outputs": [
    {
     "name": "stdout",
     "output_type": "stream",
     "text": [
      "Top matching chunks:\n",
      "\n",
      "> Score: 0.7231\n",
      "VillamHub–FirstVersionSolutionOverviewProductName●Name:VillamHub●Description:Anall-in-onedigitalplatformandphysicalhubdesignedtoempowerNigeriansandAfricanswithsustainable,low-powerfarmingsolutions,communitysupport,andclimateresiliencetools.TheProblem●Context:Nigeriafacessignificantchallenges,including36.38%inflation(2024),53.6%electricityaccess,36%forestloss,andwaterscarcity(30%yielddropforfarmers).AcrossAfrica,similarissuesaffectfoodsecurityandlivelihoods.●SpecificIssues:●Highfoodpricesandunreliablesuppliersburdenurbandwellersandsmallfarmers.●Frequentpoweroutages(e.g.67hours/weekinNigeria)limittraditionalfarmingtechadoption.●Lackofaccessiblefarmingknowledgeandcommunitysupporthinderssustainablepractices.●Eco-consciousbusinessesseekaffordablecarbonoffsetoptions.TheSolution●Overview:VillamHuboffersaplatformwithlow-power,climate-resilientfarmingsolutionsandaphysicalhubtobridgethesegaps.●KeyFeatures(MVP):●FarmBrokerage:Marketplaceforhydroponicskits(₦10,000–₦15,000),backyardkits(₦20,000–₦30,000),andirrigationsystems(₦15,000–₦25,000),deliveredviaKwik/Speedaf.●OutdoorTreePlanting:Order20treesfor₦15,000witha400kgCO2offsetcertificate,verifiedbyNigeriaConservationFoundation.●FarmingasaService(FaaS):₦5,000/monthsubscriptionforSMStips,toolrentals,andWhatsAppforums.●GuidesandJournal:OfflinePDFguidesandacrop-trackingjournal.●PhysicalFood/FarmingHub:DemocenterandtrainingspaceinLagos(launchFebruary2026).●Technology:Reactfrontend,Node.jsbackend,Firebasehosting,TwilioSMSintegration,<3s2Gloadti\n",
      "--------------------------------------------------------------------------------\n",
      "> Score: 0.6729\n",
      "TheBrandIdentity●Vision:Athriving,sustainablefuturewhereeveryNigerianandAfricancangrowfoodandconnectwithacommunity.●Tagline:\"GrowGreen,LiveBetter\"●Logo:Circulargreenleafwithawaterdroplet(EarthyGreen#2E7D32,LimeGreen#76B900),\"Villam\"inboldRoboto,\"Hub\"inLora,designedbyJuly5,2025.●Colors:EarthyGreen(#2E7D32),LimeGreen(#76B900),WarmBeige(#F5F5DC),DeepBrown(#3C2F2F).●Typography:Roboto(modern)fortext,Lora(warm)forguides.●Tone:Friendly,empowering,sustainable(e.g.“Let’sgrowtogether!”).●Usage:Appliedtowebsite,app,andmarketingbyOctober15,2025.TheBusinessOpportunity●RevenuePotential:₦4.9M–₦6.3MbyFebruary2026(FarmBrokerage:60%,FaaS:30%,TreePlanting:10%),withphysicalhubadding₦130,000/month.●MarketDemand:80%smallholderfarmersinNigeria,growingurbanpopulationsinGhana/Kenya,andrisingeco-businessinterest(e.g.,GreenCorp).●Funding:₦5,060,000budget,supplementedbya$50,000grant(targetJuly2025)forhubsetup(₦700,000).●Partnerships:Kwik/Speedaffordelivery,NigeriaConservationFoundationfortreeplanting,enhancingoperationalscalability.TheMarket●TargetMarket:●Nigeria:InitialfocusonLagos(500users),expandingtoAbujaandPortHarcourt(10,000byQ22027).●Africa:Ghana(Accra)andKenya(Nairobi)byQ42027(20,000users).●MarketSize:Nigeria’sagriculturesectorcontributes21%toGDP(2024),with70%ruralpopulation;Africa’surbangrowthrateis3.5%annually.●Competitors:Localseedsuppliers,generice-commerce,lackintegratedsustainabilityfocus.●UniqueEdge:Low-powersolutions,communityhub,andclimateresiliencetailoredtoregionalchallenges.TheProduc\n",
      "--------------------------------------------------------------------------------\n",
      "> Score: 0.6509\n",
      "ruary2026).●Technology:Reactfrontend,Node.jsbackend,Firebasehosting,TwilioSMSintegration,<3s2Gloadtime.●Impact:Enables500pilotuserstostartfarmingbyNovember29,2025,scalingto5,000byFebruary2026,with₦4.9M–₦6.3Mrevenue.\n",
      "--------------------------------------------------------------------------------\n"
     ]
    }
   ],
   "source": [
    "# Load environment variables\n",
    "from dotenv import load_dotenv\n",
    "import os\n",
    "load_dotenv()\n",
    "\n",
    "#  Import Pinecone client\n",
    "from pinecone import Pinecone\n",
    "pc = Pinecone(api_key=os.getenv(\"PINECONE_API_KEY\"))\n",
    "pinecone_index = pc.Index(\"villambot\")  \n",
    "\n",
    "#  Import embedding model\n",
    "from langchain_google_genai import GoogleGenerativeAIEmbeddings\n",
    "embed_model = GoogleGenerativeAIEmbeddings(model=\"models/embedding-001\")\n",
    "\n",
    "# Run a test query\n",
    "query = \"What is villam hub?\"\n",
    "query_vector = embed_model.embed_query(query)\n",
    "\n",
    "# Search Pinecone\n",
    "search_result = pinecone_index.query(\n",
    "    vector=query_vector,\n",
    "    top_k=3,\n",
    "    include_metadata=True\n",
    ")\n",
    "\n",
    "#  Display results\n",
    "print(\"Top matching chunks:\\n\")\n",
    "for match in search_result['matches']:\n",
    "    score = match['score']\n",
    "    content = match['metadata']['text']\n",
    "    print(f\"> Score: {score:.4f}\\n{content}\\n{'-'*80}\")\n"
   ]
  },
  {
   "cell_type": "code",
   "execution_count": 11,
   "id": "5cdaeac5-4404-47cb-affe-0a14355e7d4c",
   "metadata": {},
   "outputs": [
    {
     "name": "stdout",
     "output_type": "stream",
     "text": [
      "Top matching chunks:\n",
      "\n",
      "> Score: 0.7527\n",
      "on(September23–October9,2025)●Activities:Testwith50users,iteratebasedonfeedback,ensurequalitystandards.●Deliverables:TestedMVP,iterationreport.●Owner:ProductLead,DesignLead●Deadline:October9,2025●Success:85%usersatisfaction,allbugsfixed.●Phase7:QualityAssurance(QA)andLiveProductTesting–DEMO4(October10–October13,2025)●Activities:Conductunit/integration/systemtesting,fixbugs,holdlivetestingwithmentors.\n",
      "--------------------------------------------------------------------------------\n",
      "> Score: 0.7277\n",
      "ruary2026).●Technology:Reactfrontend,Node.jsbackend,Firebasehosting,TwilioSMSintegration,<3s2Gloadtime.●Impact:Enables500pilotuserstostartfarmingbyNovember29,2025,scalingto5,000byFebruary2026,with₦4.9M–₦6.3Mrevenue.\n",
      "--------------------------------------------------------------------------------\n",
      "> Score: 0.7004\n",
      "●Deliverables:QAreport,livedemovideo.●Owner:EngineeringLead●Deadline:October13,2025●Success:99%uptime,mentorapproval.●ExtraInformation:October13–October17,2025●Activities:Post-DEMO4refinement,finalizelaunchpreparations,andinitiatefeedbackloop.●Deliverables:●LaunchChecklist:Confirm500userinvites,marketingmaterials,platformstability(Owner:MarketingLead,Deadline:October15).●FeedbackPlan:SetupSMS/WhatsAppfeedbackchannelsforpilotusers(Owner:ProductLead,Deadline:October17).●PilotIncentiveStrategy:Distribute₦500airtimeto500users(₦250,000,withinbudget)toboostearlyadoption(Owner:MarketingLead,Deadline:October17).●Success:100%launchreadiness,50%feedbackresponseratebyOctober17.●Ongoing:FeedbackLoopandProductMonitoring(October14,2025–February2026)●Activities:Gatheruserfeedback,iteratefeatures,monitorKPIs(e.g.70%retention),planfor5,000users.●Deliverables:Monthlyfeedbackreports,optimizationplan.●Owner:DataLead,ProductLead●Success:5,000usersbyFebruary2026,₦4.9Mrevenue.AdditionalNotes●DataPrivacy:EnsuredviaencryptedFirebasestorage,userconsentforms(June2025research).●EthicalConsiderations:Sustainablesourcingofkits,fairpricing(10%pilotdiscount),communityfocus.●Challenges:Poweroutagesmitigatedwithofflinemode,logisticsdelaysaddressedwithbackupcouriers.\n",
      "--------------------------------------------------------------------------------\n"
     ]
    }
   ],
   "source": [
    "# Load environment variables\n",
    "from dotenv import load_dotenv\n",
    "import os\n",
    "load_dotenv()\n",
    "\n",
    "#  Import Pinecone client\n",
    "from pinecone import Pinecone\n",
    "pc = Pinecone(api_key=os.getenv(\"PINECONE_API_KEY\"))\n",
    "pinecone_index = pc.Index(\"villambot\")  \n",
    "\n",
    "#  Import embedding model\n",
    "from langchain_google_genai import GoogleGenerativeAIEmbeddings\n",
    "embed_model = GoogleGenerativeAIEmbeddings(model=\"models/embedding-001\")\n",
    "\n",
    "# Run a test query\n",
    "query = \"What is the product name\"\n",
    "query_vector = embed_model.embed_query(query)\n",
    "\n",
    "# Search Pinecone\n",
    "search_result = pinecone_index.query(\n",
    "    vector=query_vector,\n",
    "    top_k=3,\n",
    "    include_metadata=True\n",
    ")\n",
    "\n",
    "#  Display results\n",
    "print(\"Top matching chunks:\\n\")\n",
    "for match in search_result['matches']:\n",
    "    score = match['score']\n",
    "    content = match['metadata']['text']\n",
    "    print(f\"> Score: {score:.4f}\\n{content}\\n{'-'*80}\")\n"
   ]
  },
  {
   "cell_type": "code",
   "execution_count": null,
   "id": "3e6c899c-11fc-4436-a3b0-d4aca8ea0a78",
   "metadata": {},
   "outputs": [],
   "source": []
  }
 ],
 "metadata": {
  "kernelspec": {
   "display_name": "Python 3 (ipykernel)",
   "language": "python",
   "name": "python3"
  },
  "language_info": {
   "codemirror_mode": {
    "name": "ipython",
    "version": 3
   },
   "file_extension": ".py",
   "mimetype": "text/x-python",
   "name": "python",
   "nbconvert_exporter": "python",
   "pygments_lexer": "ipython3",
   "version": "3.12.4"
  }
 },
 "nbformat": 4,
 "nbformat_minor": 5
}
