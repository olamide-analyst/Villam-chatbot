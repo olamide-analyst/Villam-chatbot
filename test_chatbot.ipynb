{
 "cells": [
  {
   "cell_type": "code",
   "execution_count": 5,
   "id": "65a0f671-e41d-4886-9185-450a57e5c11e",
   "metadata": {},
   "outputs": [
    {
     "name": "stdout",
     "output_type": "stream",
     "text": [
      "> Score: 0.8204\n",
      "text: Villam Hub is an urban farming platform focused on helping people grow food, plant trees, and live more sustainably. It combines digital technology with offline experiences.\n",
      "source: VillamHub_Overview\n",
      "--------------------------------------------------------------------------------\n",
      "> Score: 0.8199\n",
      "text: Villam Hub supports sustainable agriculture through education, tools, and community engagement, empowering users to take part in eco-friendly food systems.\n",
      "source: VillamHub_Overview\n",
      "--------------------------------------------------------------------------------\n",
      "> Score: 0.8056\n",
      "text: Users can request to plant trees in their homes, offices, or schools, and Villam Hub handles the planting and care.\n",
      "source: VillamHub_Overview\n",
      "--------------------------------------------------------------------------------\n"
     ]
    }
   ],
   "source": [
    "# Load environment variables\n",
    "from dotenv import load_dotenv\n",
    "import os\n",
    "load_dotenv()\n",
    "\n",
    "#  Import Pinecone client\n",
    "from pinecone import Pinecone\n",
    "pc = Pinecone(api_key=os.getenv(\"PINECONE_API_KEY\"))\n",
    "pinecone_index = pc.Index(\"villambot\")  \n",
    "\n",
    "#  Import embedding model\n",
    "from langchain_google_genai import GoogleGenerativeAIEmbeddings\n",
    "embed_model = GoogleGenerativeAIEmbeddings(model=\"models/embedding-001\")\n",
    "\n",
    "# Run a test query\n",
    "query = \"What is villam hub?\"\n",
    "query_vector = embed_model.embed_query(query)\n",
    "\n",
    "# Search Pinecone\n",
    "search_result = pinecone_index.query(\n",
    "    vector=query_vector,\n",
    "    top_k=3,\n",
    "    include_metadata=True\n",
    ")\n",
    "\n",
    "#  Display results\n",
    "for match in search_result['matches']:\n",
    "    score = match['score']\n",
    "    content = match['metadata'].get('text', '[No content]')  # or 'content', based on what you used\n",
    "    print(f\"> Score: {score:.4f}\\n{content}\\n{'-'*80}\")\n"
   ]
  },
  {
   "cell_type": "code",
   "execution_count": null,
   "id": "3e6c899c-11fc-4436-a3b0-d4aca8ea0a78",
   "metadata": {},
   "outputs": [],
   "source": []
  }
 ],
 "metadata": {
  "kernelspec": {
   "display_name": "Python 3 (ipykernel)",
   "language": "python",
   "name": "python3"
  },
  "language_info": {
   "codemirror_mode": {
    "name": "ipython",
    "version": 3
   },
   "file_extension": ".py",
   "mimetype": "text/x-python",
   "name": "python",
   "nbconvert_exporter": "python",
   "pygments_lexer": "ipython3",
   "version": "3.12.4"
  }
 },
 "nbformat": 4,
 "nbformat_minor": 5
}
