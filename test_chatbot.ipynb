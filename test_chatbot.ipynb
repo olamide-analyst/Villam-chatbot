{
 "cells": [
  {
   "cell_type": "code",
   "execution_count": 14,
   "id": "76aa75a0",
   "metadata": {},
   "outputs": [],
   "source": [
    "from villambot_rag import generate_response\n",
    "import streamlit as st"
   ]
  },
  {
   "cell_type": "code",
   "execution_count": 15,
   "id": "438cf543",
   "metadata": {},
   "outputs": [],
   "source": [
    "# Simulate Streamlit session state (chat history)\n",
    "if \"chat_history\" not in st.session_state:\n",
    "    st.session_state.chat_history = [\n",
    "        {\"role\": \"user\", \"content\": \"Hi, what services does Villam Hub offer?\"},\n",
    "        {\"role\": \"assistant\", \"content\": \"Villam Hub offers farming kits, a tree planting service, and farming-as-a-service.\"}\n",
    "    ]"
   ]
  },
  {
   "cell_type": "code",
   "execution_count": 16,
   "id": "e5e397a3",
   "metadata": {},
   "outputs": [],
   "source": [
    "# User asks a new question\n",
    "question = \"Tell me more about the tree planting service.\""
   ]
  },
  {
   "cell_type": "code",
   "execution_count": 17,
   "id": "b6271b18",
   "metadata": {},
   "outputs": [],
   "source": [
    "# Get AI-generated response\n",
    "response = generate_response(question)"
   ]
  },
  {
   "cell_type": "code",
   "execution_count": 18,
   "id": "4527a3af",
   "metadata": {
    "lines_to_next_cell": 2
   },
   "outputs": [
    {
     "name": "stdout",
     "output_type": "stream",
     "text": [
      "\n",
      "VillamBot says:\n",
      "\n",
      "Okay, let's break down what a \"tree planting service\" typically entails.  To give you the most relevant information, I need to know what you're interested in.  Are you looking to:\n",
      "\n",
      "*   **Hire a service to plant trees on your property?** (e.g., for landscaping, privacy, shade, or fruit production)\n",
      "*   **Volunteer with a tree planting organization?** (e.g., to help with reforestation efforts)\n",
      "*   **Learn about companies that plant trees on your behalf when you purchase something?** (e.g., as part of a sustainability initiative)\n",
      "*   **Start your own tree planting service?**\n",
      "\n",
      "Once you clarify your interest, I can provide more specific details.\n",
      "\n",
      "**However, here's a general overview of what a tree planting service usually involves:**\n",
      "\n",
      "**For Hiring a Tree Planting Service (Landscaping/Property):**\n",
      "\n",
      "*   **Consultation and Planning:**\n",
      "    *   **Site Assessment:**  A professional will evaluate your property's soil type, sunlight exposure, drainage, and existing vegetation.\n",
      "    *   **Tree Selection:**  They'll help you choose the right tree species for your climate, soil, and desired aesthetic.  Factors include size at maturity, growth rate, disease resistance, and maintenance requirements.\n",
      "    *   **Placement:**  They'll advise on the best location for each tree to maximize its health and growth, considering factors like proximity to buildings, power lines, and other trees.\n",
      "    *   **Permits:**  They may assist with obtaining any necessary permits from your local municipality.\n",
      "*   **Tree Procurement:**\n",
      "    *   The service will source healthy trees from reputable nurseries.\n",
      "    *   They'll ensure the trees are properly sized and in good condition.\n",
      "*   **Planting:**\n",
      "    *   **Site Preparation:**  This includes clearing the planting area, digging the hole to the correct depth and width, and amending the soil if necessary.\n",
      "    *   **Proper Planting Technique:**  They'll carefully remove the tree from its container, loosen any circling roots, and position the tree in the hole.\n",
      "    *   **Backfilling and Watering:**  They'll backfill the hole with the appropriate soil mixture, tamp it down gently, and water the tree thoroughly.\n",
      "    *   **Mulching:**  Applying a layer of mulch around the base of the tree helps retain moisture, suppress weeds, and regulate soil temperature.\n",
      "    *   **Staking (if necessary):**  Young trees may need to be staked for support, especially in windy areas.\n",
      "*   **Post-Planting Care:**\n",
      "    *   **Watering Schedule:**  They'll provide instructions on how often and how much to water the tree.\n",
      "    *   **Fertilization (if necessary):**  They may recommend a fertilizer to promote healthy growth.\n",
      "    *   **Pruning (initial):**  They may prune the tree to remove any damaged or dead branches.\n",
      "    *   **Warranty:**  Some services offer a warranty on their planting, guaranteeing that the tree will survive for a certain period.\n",
      "*   **Clean-up:**\n",
      "    *   The service will remove all debris from the planting site.\n",
      "\n",
      "**Factors Affecting Cost:**\n",
      "\n",
      "*   **Tree Size and Species:** Larger trees and rarer species will cost more.\n",
      "*   **Number of Trees:**  The more trees you plant, the higher the overall cost.\n",
      "*   **Site Conditions:**  Difficult site conditions (e.g., rocky soil, steep slopes) may increase the labor costs.\n",
      "*   **Location:**  Prices vary depending on your geographic location.\n",
      "*   **Service Provider:**  Different companies have different pricing structures.\n",
      "\n",
      "**Questions to Ask a Tree Planting Service:**\n",
      "\n",
      "*   Are you licensed and insured?\n",
      "*   What experience do you have planting trees in this area?\n",
      "*   Can you provide references from previous clients?\n",
      "*   What species of trees do you recommend for my property?\n",
      "*   What is your planting process?\n",
      "*   What kind of warranty do you offer?\n",
      "*   What is the total cost of the project, including all materials and labor?\n",
      "\n",
      "**In summary, a good tree planting service will provide expert advice, high-quality trees, and proper planting techniques to ensure the long-term health and survival of your trees.**\n",
      "\n",
      "**Please tell me what you're interested in so I can give you more specific information!**\n",
      "\n"
     ]
    }
   ],
   "source": [
    "# Print the chatbot’s answer\n",
    "print(\"\\nVillamBot says:\\n\")\n",
    "print(response)"
   ]
  },
  {
   "cell_type": "code",
   "execution_count": 27,
   "id": "873171d9-9757-44d2-b88a-434023323883",
   "metadata": {},
   "outputs": [
    {
     "data": {
      "text/plain": [
       "'There doesn\\'t appear to be a widely known or established entity called \"Villam Hub.\" It\\'s possible it could be:\\n\\n*   **A very new or small business/project:** It might be a recently launched startup, a local community initiative, or a project that hasn\\'t gained much visibility yet.\\n*   **A typo or misspelling:** Perhaps you\\'re thinking of something with a similar name.\\n*   **A private or internal platform:** It could be a platform or resource used within a specific company or organization.\\n\\nIf you have any additional information, such as the context where you encountered the name or any details about its purpose, I might be able to provide a more specific answer.'"
      ]
     },
     "execution_count": 27,
     "metadata": {},
     "output_type": "execute_result"
    }
   ],
   "source": [
    "generate_response(\"what is villam hub\")"
   ]
  },
  {
   "cell_type": "code",
   "execution_count": null,
   "id": "c4355ec8-2fc6-4fa1-a4d5-86968fdfefe2",
   "metadata": {},
   "outputs": [],
   "source": []
  }
 ],
 "metadata": {
  "jupytext": {
   "cell_metadata_filter": "-all",
   "main_language": "python",
   "notebook_metadata_filter": "-all"
  },
  "kernelspec": {
   "display_name": "Python 3 (ipykernel)",
   "language": "python",
   "name": "python3"
  },
  "language_info": {
   "codemirror_mode": {
    "name": "ipython",
    "version": 3
   },
   "file_extension": ".py",
   "mimetype": "text/x-python",
   "name": "python",
   "nbconvert_exporter": "python",
   "pygments_lexer": "ipython3",
   "version": "3.12.4"
  }
 },
 "nbformat": 4,
 "nbformat_minor": 5
}
