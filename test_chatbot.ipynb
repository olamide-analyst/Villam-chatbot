{
 "cells": [
  {
   "cell_type": "code",
   "execution_count": null,
   "id": "00c5dc04-d2f3-463b-b245-e30990908311",
   "metadata": {},
   "outputs": [],
   "source": [
    "from rag_pipeline.py import generate_response\n",
    "import streamlit as st\n",
    "\n",
    "# Simulate Streamlit session state (chat history)\n",
    "if \"chat_history\" not in st.session_state:\n",
    "    st.session_state.chat_history = [\n",
    "        {\"role\": \"user\", \"content\": \"Hi, what services does Villam Hub offer?\"},\n",
    "        {\"role\": \"assistant\", \"content\": \"Villam Hub offers farming kits, a tree planting service, and farming-as-a-service.\"}\n",
    "    ]\n",
    "\n",
    "# User asks a new question\n",
    "question = \"Tell me more about the tree planting service.\"\n",
    "\n",
    "# Get AI-generated response\n",
    "response = generate_response(question)\n",
    "\n",
    "# Print the chatbot’s answer\n",
    "print(\"\\nVillamBot says:\\n\")\n",
    "print(response)"
   ]
  }
 ],
 "metadata": {
  "kernelspec": {
   "display_name": "Python 3 (ipykernel)",
   "language": "python",
   "name": "python3"
  },
  "language_info": {
   "codemirror_mode": {
    "name": "ipython",
    "version": 3
   },
   "file_extension": ".py",
   "mimetype": "text/x-python",
   "name": "python",
   "nbconvert_exporter": "python",
   "pygments_lexer": "ipython3",
   "version": "3.12.4"
  }
 },
 "nbformat": 4,
 "nbformat_minor": 5
}
