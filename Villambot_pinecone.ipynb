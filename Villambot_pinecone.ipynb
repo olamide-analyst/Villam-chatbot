{
 "cells": [
  {
   "cell_type": "code",
   "execution_count": 1,
   "id": "bcf8c41a-6bf3-45c7-ad69-34e96f6e5d78",
   "metadata": {},
   "outputs": [],
   "source": [
    "import pandas as pd "
   ]
  },
  {
   "cell_type": "code",
   "execution_count": 2,
   "id": "453247e7-439a-4525-b079-efe234340e75",
   "metadata": {},
   "outputs": [
    {
     "data": {
      "text/html": [
       "<div>\n",
       "<style scoped>\n",
       "    .dataframe tbody tr th:only-of-type {\n",
       "        vertical-align: middle;\n",
       "    }\n",
       "\n",
       "    .dataframe tbody tr th {\n",
       "        vertical-align: top;\n",
       "    }\n",
       "\n",
       "    .dataframe thead th {\n",
       "        text-align: right;\n",
       "    }\n",
       "</style>\n",
       "<table border=\"1\" class=\"dataframe\">\n",
       "  <thead>\n",
       "    <tr style=\"text-align: right;\">\n",
       "      <th></th>\n",
       "      <th>id</th>\n",
       "      <th>text</th>\n",
       "      <th>source</th>\n",
       "    </tr>\n",
       "  </thead>\n",
       "  <tbody>\n",
       "    <tr>\n",
       "      <th>0</th>\n",
       "      <td>1</td>\n",
       "      <td>Villam Hub is an urban farming platform focuse...</td>\n",
       "      <td>VillamHub_Overview</td>\n",
       "    </tr>\n",
       "    <tr>\n",
       "      <th>1</th>\n",
       "      <td>2</td>\n",
       "      <td>The founder of Villam Hub is Wisdom Chibuzor. ...</td>\n",
       "      <td>VillamHub_Overview</td>\n",
       "    </tr>\n",
       "    <tr>\n",
       "      <th>2</th>\n",
       "      <td>3</td>\n",
       "      <td>Villam Hub was created by a team of young inno...</td>\n",
       "      <td>VillamHub_Overview</td>\n",
       "    </tr>\n",
       "  </tbody>\n",
       "</table>\n",
       "</div>"
      ],
      "text/plain": [
       "   id                                               text              source\n",
       "0   1  Villam Hub is an urban farming platform focuse...  VillamHub_Overview\n",
       "1   2  The founder of Villam Hub is Wisdom Chibuzor. ...  VillamHub_Overview\n",
       "2   3  Villam Hub was created by a team of young inno...  VillamHub_Overview"
      ]
     },
     "execution_count": 2,
     "metadata": {},
     "output_type": "execute_result"
    }
   ],
   "source": [
    "df = pd.read_csv('villamhub_rag_dataset.csv')\n",
    "df.head(3)"
   ]
  },
  {
   "cell_type": "code",
   "execution_count": 3,
   "id": "db3124fe-6c9c-4c68-b53d-ff98496f7bde",
   "metadata": {},
   "outputs": [],
   "source": [
    "from sentence_transformers import SentenceTransformer\n",
    "\n",
    "#  Load embedding model\n",
    "model = SentenceTransformer('all-MiniLM-L6-v2')  # gives 384-dimensional embeddings"
   ]
  },
  {
   "cell_type": "code",
   "execution_count": 4,
   "id": "ecaa01d4-f129-420e-be51-3d9560d58386",
   "metadata": {},
   "outputs": [],
   "source": [
    "from pinecone import Pinecone\n",
    "\n",
    "# Connect to Pinecone using API key \n",
    "pc = Pinecone(api_key=\"pcsk_6BJeTV_8F1pjuyoyrb8FDK2QqrPKaosRuuHJrpUx52WwX44q7z6JmWqMuDb7R8SfJtSpzu\")\n",
    "\n",
    "# Connect to  existing index\n",
    "index = pc.Index(\"villam-chatbot\")\n"
   ]
  },
  {
   "cell_type": "code",
   "execution_count": 5,
   "id": "2713f65c-1b96-48af-8d48-0d3a3f8508cb",
   "metadata": {},
   "outputs": [
    {
     "name": "stderr",
     "output_type": "stream",
     "text": [
      "C:\\Users\\Olamide\\anaconda3\\Lib\\site-packages\\torch\\nn\\modules\\module.py:1762: FutureWarning: `encoder_attention_mask` is deprecated and will be removed in version 4.55.0 for `BertSdpaSelfAttention.forward`.\n",
      "  return forward_call(*args, **kwargs)\n"
     ]
    },
    {
     "data": {
      "text/plain": [
       "{'upserted_count': 20}"
      ]
     },
     "execution_count": 5,
     "metadata": {},
     "output_type": "execute_result"
    }
   ],
   "source": [
    "# Convert text to embeddings and prepare for Pinecone\n",
    "\n",
    "vectors = []\n",
    "for i, row in df.iterrows():   # goes through each row in the dataset \n",
    "    # convert text to embedding\n",
    "    embedding = model.encode(row['text']).tolist()  \n",
    "    \n",
    "    # Create a Pinecone-friendly vector entry\n",
    "    vectors.append({\n",
    "        'id': f'id-{i}',\n",
    "        'values': embedding,\n",
    "        'metadata': {'text': row['text'], 'source': row['source']}\n",
    "    })\n",
    "\n",
    "\n",
    "# send data to pinecone\n",
    "index.upsert(vectors=vectors, namespace=\"default\")"
   ]
  },
  {
   "cell_type": "code",
   "execution_count": 6,
   "id": "a320f616-da90-4dd0-8d68-888c194d671e",
   "metadata": {},
   "outputs": [
    {
     "name": "stdout",
     "output_type": "stream",
     "text": [
      "Score: 0.843910694\n",
      "Text: Villam Hub is an urban farming platform focused on helping people grow food, plant trees, and live more sustainably. It combines digital technology with offline experiences.\n",
      "\n",
      "Score: 0.70687741\n",
      "Text: Villam Hub was created by a team of young innovators from Altschool Africa, committed to environmental and food system transformation.\n",
      "\n",
      "Score: 0.66407156\n",
      "Text: The founder of Villam Hub is Wisdom Chibuzor. He is a Product Manager and a farmer who is passionate about sustainable agriculture.\n",
      "\n",
      "Score: 0.658494174\n",
      "Text: Villam Hub supports sustainable agriculture through education, tools, and community engagement, empowering users to take part in eco-friendly food systems.\n",
      "\n",
      "Score: 0.631631\n",
      "Text: Villam Hub offers affordable farming kits, including hydroponic kits, irrigation kits, and backyard garden kits, to promote urban agriculture.\n",
      "\n"
     ]
    }
   ],
   "source": [
    "\n",
    "# Sample user query\n",
    "query = \"What is Villam Hub and what does it do?\"\n",
    "\n",
    "# Embed the query\n",
    "query_embedding = model.encode(query).tolist()\n",
    "\n",
    "# Search Pinecone for similar entries\n",
    "response = index.query(\n",
    "    vector=query_embedding,\n",
    "    top_k=5,\n",
    "    include_metadata=True,\n",
    "    namespace=\"default\"   # ← this is important\n",
    ")\n",
    "\n",
    "# Show the results\n",
    "for match in response['matches']:\n",
    "    print(f\"Score: {match['score']}\")\n",
    "    print(f\"Text: {match['metadata']['text']}\\n\")\n"
   ]
  },
  {
   "cell_type": "code",
   "execution_count": 7,
   "id": "e3930f7e-69c2-45d3-88ce-40b381774f77",
   "metadata": {},
   "outputs": [
    {
     "name": "stdout",
     "output_type": "stream",
     "text": [
      "Score: 0.828174889\n",
      "Text: The founder of Villam Hub is Wisdom Chibuzor. He is a Product Manager and a farmer who is passionate about sustainable agriculture.\n",
      "\n",
      "Score: 0.68276912\n",
      "Text: Villam Hub was created by a team of young innovators from Altschool Africa, committed to environmental and food system transformation.\n",
      "\n",
      "Score: 0.668948889\n",
      "Text: Villam Hub is an urban farming platform focused on helping people grow food, plant trees, and live more sustainably. It combines digital technology with offline experiences.\n",
      "\n",
      "Score: 0.538108468\n",
      "Text: Villam Hub’s mission is to build an environmentally aware generation and create a system that promotes accessible and sustainable food growing.\n",
      "\n",
      "Score: 0.530345321\n",
      "Text: Villam Hub supports sustainable agriculture through education, tools, and community engagement, empowering users to take part in eco-friendly food systems.\n",
      "\n"
     ]
    }
   ],
   "source": [
    "query = \"Who is Villam Hub founder?\"\n",
    "\n",
    "# Embed the query\n",
    "query_embedding = model.encode(query).tolist()\n",
    "\n",
    "# Search Pinecone for similar entries\n",
    "response = index.query(\n",
    "    vector=query_embedding,\n",
    "    top_k=5,\n",
    "    include_metadata=True,\n",
    "    namespace=\"default\"   # ← this is important\n",
    ")\n",
    "\n",
    "# Show the results\n",
    "for match in response['matches']:\n",
    "    print(f\"Score: {match['score']}\")\n",
    "    print(f\"Text: {match['metadata']['text']}\\n\")"
   ]
  },
  {
   "cell_type": "code",
   "execution_count": null,
   "id": "4380d16d-ec03-4e2c-8b42-86f564b21fed",
   "metadata": {},
   "outputs": [],
   "source": []
  }
 ],
 "metadata": {
  "kernelspec": {
   "display_name": "Python 3 (ipykernel)",
   "language": "python",
   "name": "python3"
  },
  "language_info": {
   "codemirror_mode": {
    "name": "ipython",
    "version": 3
   },
   "file_extension": ".py",
   "mimetype": "text/x-python",
   "name": "python",
   "nbconvert_exporter": "python",
   "pygments_lexer": "ipython3",
   "version": "3.12.4"
  }
 },
 "nbformat": 4,
 "nbformat_minor": 5
}
